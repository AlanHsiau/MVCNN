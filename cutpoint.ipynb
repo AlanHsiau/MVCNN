{
 "cells": [
  {
   "cell_type": "code",
   "execution_count": 1,
   "metadata": {
    "collapsed": true,
    "deletable": true,
    "editable": true
   },
   "outputs": [],
   "source": [
    "import pandas as pd\n",
    "import math\n",
    "import numpy as np\n",
    "from sklearn import metrics"
   ]
  },
  {
   "cell_type": "code",
   "execution_count": 2,
   "metadata": {
    "collapsed": false,
    "deletable": true,
    "editable": true
   },
   "outputs": [],
   "source": [
    "def find_cutpoint(read_record_path,read_pred_path):\n",
    "    record_cutpoint = []\n",
    "    record_file_name = read_record_path + \"/start_plant_list.csv\"\n",
    "    record_fault_name = read_record_path + \"/start_fault_list.csv\"\n",
    "    record_vali_name = read_pred_path + \"/pred_start/record_vali.csv\"\n",
    "    record_file =  np.genfromtxt(record_file_name, delimiter=',', dtype=np.int32)\n",
    "    record_fault = np.genfromtxt(record_fault_name, delimiter=',', dtype=np.int32)\n",
    "    record_vali = np.genfromtxt(record_vali_name,delimiter=',', dtype=np.int32)\n",
    "    for n_index in range(0, 2):\n",
    "        if( record_vali[n_index] == 1):\n",
    "            ##pred_trainset_name = read_nosample_path + \"/trainset\" + str(record_file[n_index]) + \"_fault\"+str(record_fault[n_index]) + \".csv\"\n",
    "            pred_vali_name = read_pred_path + \"/pred_start/validate/start_vali_5conv\" + str(record_file[n_index]) + \"_fault\"+str(record_fault[n_index]) + \".csv\"\n",
    "            ##pred_trainset = pd.read_csv(pred_trainset_name)\n",
    "            pred_vali    = pd.read_csv(pred_vali_name)\n",
    "            semi_pred_vali = []\n",
    "            semi_pred_vali_label = []\n",
    "            \n",
    "            ##simlulating the testing record\n",
    "            for i in range(math.floor(pred_vali.shape[0]/6)-1):\n",
    "                best_prob = 0\n",
    "                true_label = 0\n",
    "                for j in range(i*6,(i+1)*6):\n",
    "                    if pred_vali.one[j] > best_prob:\n",
    "                        best_prob = pred_vali.one[j]\n",
    "                        true_label = pred_vali.true[j]\n",
    "                semi_pred_vali.append(best_prob)\n",
    "                semi_pred_vali_label.append(true_label)\n",
    "            semi_pred_vali = np.array(semi_pred_vali)\n",
    "            semi_pred_vali_label = np.array(semi_pred_vali_label)\n",
    "\n",
    "            fpr, tpr, thresholds = metrics.roc_curve(pred_vali.true, pred_vali.one)\n",
    "            cut_vali = pd.DataFrame({\"pred\":semi_pred_vali, \"true\": semi_pred_vali_label, \"ans\":[0]*semi_pred_vali.shape[0]})\n",
    "            score_eval = []\n",
    "            for prob in thresholds:\n",
    "                cut_vali.ans = 0\n",
    "                cut_vali.loc[cut_vali.pred>prob,\"ans\"] = 1\n",
    "                cut_vali_one = cut_vali.loc[cut_vali.ans == 1,:]\n",
    "                cut_vali_zero = cut_vali.loc[cut_vali.ans == 0,:]\n",
    "                \n",
    "                TP = (cut_vali_one.true == cut_vali_one.ans).sum()\n",
    "                FP = (cut_vali_one.true != cut_vali_one.ans).sum()\n",
    "                FN = (cut_vali_zero.true == cut_vali_zero.ans).sum()\n",
    "                score_eval.append(TP*10-(FP+FN)*0.1)\n",
    "            ##find the corresponding cutpoint\n",
    "            cutpoint = thresholds[np.argmax(score_eval)]\n",
    "            if(cutpoint < 0.5):\n",
    "                cutpoint = 0.5\n",
    "            record_cutpoint.append(cutpoint)\n",
    "            print(\"index: %s  total:%s  cutpoint:%s\"%(n_index,len(record_file),cutpoint))\n",
    "        else:\n",
    "            record_cutpoint.append(0)\n",
    "    f_name = read_pred_path + \"/pred_start/record_cutpoint.csv\"\n",
    "    f = open( f_name,\"w\")\n",
    "    for index in range( (len(record_cutpoint)-1) ):\n",
    "        f.write(str(record_cutpoint[index])+\",\")\n",
    "    f.write(str(record_cutpoint[-1]))\n",
    "    f.close()"
   ]
  },
  {
   "cell_type": "code",
   "execution_count": 3,
   "metadata": {
    "collapsed": true,
    "deletable": true,
    "editable": true
   },
   "outputs": [],
   "source": [
    "def Find_Optimal_Cutoff(target, predicted):\n",
    "    \"\"\" Find the optimal probability cutoff point for a classification model related to event rate\n",
    "    Parameters\n",
    "    ----------\n",
    "    target : Matrix with dependent or target data, where rows are observations\n",
    "\n",
    "    predicted : Matrix with predicted data, where rows are observations\n",
    "\n",
    "    Returns\n",
    "    -------     \n",
    "    list type, with optimal cutoff value\n",
    "\n",
    "    \"\"\"\n",
    "    fpr, tpr, threshold = metrics.roc_curve(target, predicted)\n",
    "    i = np.arange(len(tpr)) \n",
    "    roc = pd.DataFrame({'tf' : pd.Series(tpr-(1-fpr), index=i), 'threshold' : pd.Series(threshold, index=i)})\n",
    "    roc_t = roc.ix[(roc.tf-0).abs().argsort()[:1]]\n",
    "    ##https://stackoverflow.com/questions/28719067/roc-curve-and-cut-off-point-python\n",
    "    return list(roc_t['threshold']) "
   ]
  },
  {
   "cell_type": "code",
   "execution_count": 4,
   "metadata": {
    "collapsed": true,
    "deletable": true,
    "editable": true
   },
   "outputs": [],
   "source": [
    "def find_cutpoint2(read_record_path,read_pred_path):\n",
    "    record_cutpoint = []\n",
    "    record_file_name = read_record_path + \"/start_plant_list.csv\"\n",
    "    record_fault_name = read_record_path + \"/start_fault_list.csv\"\n",
    "    record_vali_name = read_pred_path + \"/pred_start/record_vali.csv\"\n",
    "    record_file =  np.genfromtxt(record_file_name, delimiter=',', dtype=np.int32)\n",
    "    record_fault = np.genfromtxt(record_fault_name, delimiter=',', dtype=np.int32)\n",
    "    record_vali = np.genfromtxt(record_vali_name,delimiter=',', dtype=np.int32)\n",
    "    for n_index in range(len(record_file)):\n",
    "        if( record_vali[n_index] == 1):\n",
    "            pred_vali_name = read_pred_path + \"/pred_start/validate/start_vali_5conv\" + str(record_file[n_index]) + \"_fault\"+str(record_fault[n_index]) + \".csv\"\n",
    "            pred_vali    = pd.read_csv(pred_vali_name)\n",
    "\n",
    "            cutpoint = Find_Optimal_Cutoff(pred_vali.true, pred_vali.one)[0]\n",
    "            if(cutpoint < 0.5):\n",
    "                cutpoint = 0.5\n",
    "            record_cutpoint.append(cutpoint)\n",
    "            print(\"index: %s  total:%s  cutpoint:%s\"%(n_index,len(record_file),cutpoint))\n",
    "        else:\n",
    "            record_cutpoint.append(0)\n",
    "    f_name = read_pred_path + \"/pred_start/record_cutpoint.csv\"\n",
    "    f = open( f_name,\"w\")\n",
    "    for index in range( (len(record_cutpoint)-1) ):\n",
    "        f.write(str(record_cutpoint[index])+\",\")\n",
    "    f.write(str(record_cutpoint[-1]))\n",
    "    f.close()"
   ]
  },
  {
   "cell_type": "code",
   "execution_count": 5,
   "metadata": {
    "collapsed": false,
    "deletable": true,
    "editable": true
   },
   "outputs": [
    {
     "name": "stdout",
     "output_type": "stream",
     "text": [
      "index: 0  total:135  cutpoint:0.819825649261\n",
      "index: 1  total:135  cutpoint:0.894259333611\n"
     ]
    }
   ],
   "source": [
    "read_record_path = \"/media/joeytu/82F6C88FF6C8853F/PHM2017/PHM_nosample/file\"\n",
    "read_pred_path = \"/media/joeytu/82F6C88FF6C8853F/PHM2017/20170831DEMO/file\"\n",
    "\n",
    "find_cutpoint(read_record_path, read_pred_path)"
   ]
  }
 ],
 "metadata": {
  "kernelspec": {
   "display_name": "Python 3",
   "language": "python",
   "name": "python3"
  },
  "language_info": {
   "codemirror_mode": {
    "name": "ipython",
    "version": 3
   },
   "file_extension": ".py",
   "mimetype": "text/x-python",
   "name": "python",
   "nbconvert_exporter": "python",
   "pygments_lexer": "ipython3",
   "version": "3.5.2"
  }
 },
 "nbformat": 4,
 "nbformat_minor": 2
}
