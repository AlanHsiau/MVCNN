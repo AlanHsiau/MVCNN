{
 "cells": [
  {
   "cell_type": "code",
   "execution_count": 1,
   "metadata": {
    "collapsed": true,
    "deletable": true,
    "editable": true
   },
   "outputs": [],
   "source": [
    "import numpy as np\n",
    "import pandas as pd\n",
    "import math\n",
    "import os"
   ]
  },
  {
   "cell_type": "code",
   "execution_count": 2,
   "metadata": {
    "collapsed": false,
    "deletable": true,
    "editable": true
   },
   "outputs": [],
   "source": [
    "def create_ans(read_file_path,read_record_path):\n",
    "    dir_name = read_file_path + \"/ans\"\n",
    "    if not os.path.exists(dir_name):\n",
    "        os.makedirs(dir_name)\n",
    "    record_fault = np.genfromtxt((read_record_path+\"/start_fault_list.csv\"), delimiter=',', dtype=np.int32)\n",
    "    record_file  =  np.genfromtxt((read_record_path+\"/start_plant_list.csv\"), delimiter=',', dtype=np.int32)\n",
    "    record_bound = np.genfromtxt((read_record_path+\"/record_bound.csv\"), delimiter=',', dtype=np.int32)\n",
    "    \n",
    "    record_vali = np.genfromtxt((read_file_path+\"/pred_start/record_vali.csv\"), delimiter=',', dtype=np.int32)\n",
    "    record_start_cutpoint = np.genfromtxt((read_file_path+\"/pred_start/record_cutpoint.csv\"), delimiter=',', dtype=np.float32)\n",
    "    #record_end_cutpoint = np.genfromtxt((read_file_path+\"/pred_end/record_cutpoint.csv\"), delimiter=',', dtype=np.float32)\n",
    "    \n",
    "    for n_index in range(0,2):\n",
    "        print( \"index: %s   total: %s\"%(n_index, len(record_vali)))\n",
    "        if record_vali[n_index] == 1:\n",
    "            st_threshold = record_start_cutpoint[n_index]\n",
    "            print(st_threshold)\n",
    "            \n",
    "            bound = record_bound[n_index]\n",
    "            pred_start_name = read_file_path + \"/pred_start/start_pred_5conv\" + str(record_file[n_index]) + \"_fault\" + str(record_fault[n_index]) + \".csv\"\n",
    "            pred_end_name = read_file_path + \"/pred_end/end_pred_5conv\" + str(record_file[n_index]) + \"_fault\" + str(record_fault[n_index]) + \".csv\"\n",
    "            pred_start = pd.read_csv(pred_start_name)\n",
    "            pred_end = pd.read_csv(pred_end_name)\n",
    "            \n",
    "            ## find start time\n",
    "            st_set = []\n",
    "            for index in range( 0,math.floor((pred_start.time[pred_start.shape[0]-1]-pred_start.time[0])/6)-1):\n",
    "                max_prob = 0\n",
    "                index_start = 0\n",
    "                section = range( int(pred_start.time[0])+(index)*6, int(pred_start.time[0])+(index+1)*6)\n",
    "                sec_start = pred_start.loc[pred_start.time.isin(section),:]\n",
    "                if sec_start.shape[0] > 0:\n",
    "                    sec_start.index = range(sec_start.shape[0])\n",
    "                    for sec_index in sec_start.index:\n",
    "                        if sec_start.one[sec_index] > max_prob:\n",
    "                            max_prob = sec_start.one[sec_index]\n",
    "                            index_start = sec_index\n",
    "\n",
    "                    if(max_prob > st_threshold):\n",
    "                        st_set.append(int(sec_start.time[index_start]) )\n",
    "\n",
    "            ##find the end time \n",
    "            ans_set = pd.DataFrame({'start_time' : [], 'end_time': []})\n",
    "            for st_time in st_set:\n",
    "                max_prob = 0\n",
    "                index_end = 0\n",
    "                section = range(st_time+1, st_time+bound+1)\n",
    "                sec_end = pred_end.loc[pred_end.time.isin(section),:]\n",
    "                if sec_end.shape[0] > 0:\n",
    "                    sec_end.index = range(sec_end.shape[0])\n",
    "                    for sec_index in sec_end.index:\n",
    "                        if sec_end.one[sec_index] > max_prob:\n",
    "                            max_prob = sec_end.one[sec_index]\n",
    "                            index_end = sec_index\n",
    "                    ans_set.loc[ans_set.shape[0]] = [st_time,int(sec_end.time[index_end])]\n",
    "            \n",
    "            print(ans_set.shape)\n",
    "            ans_set_name = read_file_path + \"/ans/ans_plant\"+ str(record_file[n_index]) + \"_fault\" + str(record_fault[n_index])+\".csv\"\n",
    "            ans_set.to_csv(ans_set_name, index = False, sep = \",\")\n",
    "            "
   ]
  },
  {
   "cell_type": "code",
   "execution_count": 3,
   "metadata": {
    "collapsed": false,
    "deletable": true,
    "editable": true
   },
   "outputs": [
    {
     "name": "stdout",
     "output_type": "stream",
     "text": [
      "index: 0   total: 2\n",
      "0.819826\n",
      "(2061, 2)\n",
      "index: 1   total: 2\n",
      "0.894259\n",
      "(40, 2)\n"
     ]
    }
   ],
   "source": [
    "read_file_path =\"/media/joeytu/82F6C88FF6C8853F/PHM2017/20170831DEMO/file\"\n",
    "read_record_path = \"/media/joeytu/82F6C88FF6C8853F/PHM2017/PHM_nosample/file\"\n",
    "\n",
    "create_ans(read_file_path,read_record_path)"
   ]
  }
 ],
 "metadata": {
  "kernelspec": {
   "display_name": "Python 3",
   "language": "python",
   "name": "python3"
  },
  "language_info": {
   "codemirror_mode": {
    "name": "ipython",
    "version": 3
   },
   "file_extension": ".py",
   "mimetype": "text/x-python",
   "name": "python",
   "nbconvert_exporter": "python",
   "pygments_lexer": "ipython3",
   "version": "3.5.2"
  }
 },
 "nbformat": 4,
 "nbformat_minor": 2
}
