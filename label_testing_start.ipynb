{
 "cells": [
  {
   "cell_type": "code",
   "execution_count": 1,
   "metadata": {
    "collapsed": true,
    "deletable": true,
    "editable": true
   },
   "outputs": [],
   "source": [
    "import pandas as pd\n",
    "import numpy as np"
   ]
  },
  {
   "cell_type": "code",
   "execution_count": 2,
   "metadata": {
    "collapsed": true,
    "deletable": true,
    "editable": true
   },
   "outputs": [],
   "source": [
    "def read_label_file(plant_index,file_path,fault_type):\n",
    "    test_label_ori_name = file_path+\"/PHM_testLabel_hidden\"+str(plant_index)+\".csv\"\n",
    "    test_label = pd.read_csv(test_label_ori_name,dtype = np.float64)\n",
    "    test_label = test_label.loc[test_label.fault == fault_type,:]\n",
    "    test_label.index = range(test_label.shape[0])\n",
    "    \n",
    "    return test_label "
   ]
  },
  {
   "cell_type": "code",
   "execution_count": 3,
   "metadata": {
    "collapsed": true,
    "deletable": true,
    "editable": true
   },
   "outputs": [],
   "source": [
    "def read_indexfile(file_path):\n",
    "    record_fault = np.genfromtxt((file_path+\"/start_fault_list.csv\"), delimiter=',', dtype=np.int32)\n",
    "    record_file =  np.genfromtxt((file_path+\"/start_plant_list.csv\"), delimiter=',', dtype=np.int32)\n",
    "    return record_fault,record_file\n"
   ]
  },
  {
   "cell_type": "code",
   "execution_count": 4,
   "metadata": {
    "collapsed": true,
    "deletable": true,
    "editable": true
   },
   "outputs": [],
   "source": [
    "def add_label(dataset,dataset_fault):\n",
    "    ##add label\n",
    "    dataset[\"start_label\"] = 0\n",
    "    for index in range( dataset_fault.shape[0] ):\n",
    "        label_v = range( int(dataset_fault[\"startTime\"][index]-4) ,int(dataset_fault[\"startTime\"][index]+5) )    \n",
    "        dataset.loc[dataset.time.isin(label_v),'start_label'] = 1\n",
    "\n",
    "    return dataset    "
   ]
  },
  {
   "cell_type": "code",
   "execution_count": 5,
   "metadata": {
    "collapsed": true,
    "deletable": true,
    "editable": true
   },
   "outputs": [],
   "source": [
    "def add_test_label(file_path,label_path):\n",
    "    record_fault, record_file = read_indexfile(file_path)\n",
    "    for n_index in range(82,len(record_fault)):##range(len(record_fault)):\n",
    "        test_label = read_label_file(record_file[n_index],label_path,record_fault[n_index])\n",
    "        testset_name = \"/media/joeytu/82F6C88FF6C8853F/PHM2017/PHM_nosample/file/start/testset\"+str(record_file[n_index])+ \"_fault\"+str(record_fault[n_index])+\".csv\"\n",
    "        testset = pd.read_csv(testset_name, dtype = np.float64)\n",
    "        testset = add_label(testset, test_label)\n",
    "        testset.to_csv(testset_name ,index = False,sep = \",\" )\n",
    "        print(\"index: %s, total: %s label: %s\"%(n_index, len(record_fault), testset.start_label.sum()))"
   ]
  },
  {
   "cell_type": "code",
   "execution_count": 6,
   "metadata": {
    "collapsed": false,
    "deletable": true,
    "editable": true
   },
   "outputs": [
    {
     "name": "stdout",
     "output_type": "stream",
     "text": [
      "index: 82, total: 135 label: 242\n",
      "index: 83, total: 135 label: 147\n",
      "index: 84, total: 135 label: 101\n",
      "index: 85, total: 135 label: 99\n",
      "index: 86, total: 135 label: 0\n",
      "index: 87, total: 135 label: 9\n",
      "index: 88, total: 135 label: 0\n",
      "index: 89, total: 135 label: 1283\n",
      "index: 90, total: 135 label: 685\n",
      "index: 91, total: 135 label: 73\n",
      "index: 92, total: 135 label: 0\n",
      "index: 93, total: 135 label: 1163\n",
      "index: 94, total: 135 label: 1429\n",
      "index: 95, total: 135 label: 266\n",
      "index: 96, total: 135 label: 760\n",
      "index: 97, total: 135 label: 629\n",
      "index: 98, total: 135 label: 36\n",
      "index: 99, total: 135 label: 109\n",
      "index: 100, total: 135 label: 1258\n",
      "index: 101, total: 135 label: 459\n",
      "index: 102, total: 135 label: 782\n",
      "index: 103, total: 135 label: 903\n",
      "index: 104, total: 135 label: 42\n",
      "index: 105, total: 135 label: 45\n",
      "index: 106, total: 135 label: 501\n",
      "index: 107, total: 135 label: 200\n",
      "index: 108, total: 135 label: 74\n",
      "index: 109, total: 135 label: 0\n",
      "index: 110, total: 135 label: 64\n",
      "index: 111, total: 135 label: 706\n",
      "index: 112, total: 135 label: 594\n",
      "index: 113, total: 135 label: 434\n",
      "index: 114, total: 135 label: 293\n",
      "index: 115, total: 135 label: 996\n",
      "index: 116, total: 135 label: 1161\n",
      "index: 117, total: 135 label: 895\n",
      "index: 118, total: 135 label: 152\n",
      "index: 119, total: 135 label: 322\n",
      "index: 120, total: 135 label: 125\n",
      "index: 121, total: 135 label: 1003\n",
      "index: 122, total: 135 label: 0\n",
      "index: 123, total: 135 label: 475\n",
      "index: 124, total: 135 label: 0\n",
      "index: 125, total: 135 label: 814\n",
      "index: 126, total: 135 label: 244\n",
      "index: 127, total: 135 label: 696\n",
      "index: 128, total: 135 label: 9\n",
      "index: 129, total: 135 label: 0\n",
      "index: 130, total: 135 label: 700\n",
      "index: 131, total: 135 label: 326\n",
      "index: 132, total: 135 label: 89\n",
      "index: 133, total: 135 label: 354\n",
      "index: 134, total: 135 label: 557\n"
     ]
    }
   ],
   "source": [
    "file_path = \"/media/joeytu/82F6C88FF6C8853F/PHM2017/PHM_nosample/file\"\n",
    "label_path = \"/media/joeytu/82F6C88FF6C8853F/PHM2017/PHM_rawdata\"\n",
    "\n",
    "add_test_label(file_path,label_path)"
   ]
  }
 ],
 "metadata": {
  "kernelspec": {
   "display_name": "Python 3",
   "language": "python",
   "name": "python3"
  },
  "language_info": {
   "codemirror_mode": {
    "name": "ipython",
    "version": 3
   },
   "file_extension": ".py",
   "mimetype": "text/x-python",
   "name": "python",
   "nbconvert_exporter": "python",
   "pygments_lexer": "ipython3",
   "version": "3.5.2"
  }
 },
 "nbformat": 4,
 "nbformat_minor": 2
}
