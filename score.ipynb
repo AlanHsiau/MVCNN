{
 "cells": [
  {
   "cell_type": "code",
   "execution_count": 1,
   "metadata": {
    "collapsed": true,
    "deletable": true,
    "editable": true
   },
   "outputs": [],
   "source": [
    "import numpy as np\n",
    "import pandas as pd\n",
    "import math"
   ]
  },
  {
   "cell_type": "code",
   "execution_count": 2,
   "metadata": {
    "collapsed": false,
    "deletable": true,
    "editable": true
   },
   "outputs": [],
   "source": [
    "def score(read_file_path,read_record_path,read_ground_path):\n",
    "    record_max_score = []\n",
    "    record_score = []\n",
    "    record_file  =  np.genfromtxt((read_record_path+\"/start_plant_list.csv\"), delimiter=',', dtype=np.int32)\n",
    "    record_fault = np.genfromtxt((read_record_path+\"/start_fault_list.csv\"), delimiter=',', dtype=np.int32)\n",
    "    record_vali = np.genfromtxt((read_file_path+\"/pred_start/record_vali.csv\"), delimiter=',', dtype=np.int32)\n",
    "    total_TP = 0\n",
    "    total_FP = 0 \n",
    "    total_FN = 0\n",
    "    total_MS = 0\n",
    "    \n",
    "    #loop \n",
    "    for n_index in range(0,2):\n",
    "        \n",
    "        plant_ans_name = read_ground_path+\"/PHM_testLabel_hidden\"+str(record_file[n_index])+\".csv\"\n",
    "        plant_ans = pd.read_csv(plant_ans_name)\n",
    "\n",
    "        ##record_ground_ans\n",
    "        ground_ans = plant_ans.loc[plant_ans.fault == record_fault[n_index],:]\n",
    "        ground_ans.index = range( ground_ans.shape[0])\n",
    "        print(\"here is: \" +str(n_index)+\" over: \"+ str(len(record_file)) + \" ans: \"+str(ground_ans.shape[0]) + \" plant: \"+str(record_file[n_index]) + \" fault: \"+str(record_fault[n_index]))\n",
    "        \n",
    "        ##record start TP\n",
    "        record_start_tp = ground_ans\n",
    "        label = pd.DataFrame({\"label\":[0]*ground_ans.shape[0] })\n",
    "        record_start_tp = pd.concat([record_start_tp,label], axis = 1,)\n",
    "        ##record_other_ans\n",
    "        other_ans = plant_ans.loc[plant_ans.fault != record_fault[n_index],:]\n",
    "        other_ans.index = range( other_ans.shape[0])\n",
    "\n",
    "        ##record_max_score\n",
    "        record_max_score.append(ground_ans.shape[0]*10)\n",
    "        if(record_vali[n_index] == 1):\n",
    "            pred_ans_name = read_file_path + \"/ans/ans_plant\"+str(record_file[n_index])+\"_fault\"+str(record_fault[n_index])+\".csv\"\n",
    "            pred_ans = pd.read_csv(pred_ans_name,header = 0,names = [\"start_time\",\"end_time\"])\n",
    "            \n",
    "            \n",
    "            ##calulate TP and MS\n",
    "            S_TP = 0\n",
    "            TP = 0\n",
    "            MS = 0\n",
    "            for i in range(pred_ans.shape[0]):\n",
    "                ps = int(pred_ans.start_time[i])\n",
    "                ps_series = range(ps-4,ps+5)\n",
    "                filter_start = ground_ans.loc[ground_ans.startTime.isin(ps_series),]\n",
    "                if filter_start.shape[0]>0:\n",
    "                    record_start_tp.loc[record_start_tp.startTime.isin(filter_start.startTime),\"label\"] = 1\n",
    "                    S_TP +=1\n",
    "                    pe = int(pred_ans.end_time[i])\n",
    "                    pe_series = range(pe-4,pe+5)\n",
    "                    filter_end = filter_start.loc[filter_start.endTime.isin(pe_series),:]\n",
    "                    if filter_end.shape[0] > 0:\n",
    "                        ground_ans = ground_ans.loc[(ground_ans.index == filter_end.index[0]) == False,:]\n",
    "                        TP+=1\n",
    "                else:\n",
    "                    filter_ms_start = other_ans.loc[other_ans.startTime.isin(ps_series),]\n",
    "                    if filter_ms_start.shape[0]>0:\n",
    "                        pe = int(pred_ans.end_time[i])\n",
    "                        pe_series = range(pe-4,pe+5)\n",
    "                        filter_ms_end = filter_ms_start.loc[filter_ms_start.endTime.isin(pe_series),:]\n",
    "                        if filter_ms_end.shape[0] > 0:\n",
    "                            other_ans = other_ans.loc[(other_ans.index == filter_ms_end.index[0]) == False,:]\n",
    "                            MS+=1\n",
    "            FP = pred_ans.shape[0] - TP - MS \n",
    "            FN = ground_ans.shape[0]\n",
    "            score = TP*10-0.1*(FP+FN)-0.01*MS\n",
    "            record_score.append(score)\n",
    "            total_TP = total_TP + TP\n",
    "            total_FP = total_FP + FP \n",
    "            total_FN = total_FN + FN\n",
    "            total_MS = total_MS + MS\n",
    "            print(\"S_TP: %s TP: %s Real_S_TP: %s FP: %s MS: %s socre: %s max: %s\"\n",
    "                  %(S_TP, TP, record_start_tp.label.sum(),FP , MS, score , record_max_score[-1]) )\n",
    "        else:\n",
    "            record_score.append(0)\n",
    "        \n",
    "    \n",
    "    ##write csv\n",
    "    d = { \"get_score\":record_score,\"max_score\":record_max_score}\n",
    "    df = pd.DataFrame(d)\n",
    "    write_name = read_file_path+\"/fixold_score.csv\"\n",
    "    df.to_csv(write_name,index = False,sep = \",\")\n",
    "    \n",
    "    confusion_list = [total_TP, total_FP, total_FN, total_MS]\n",
    "    f_name = read_file_path+\"/fixold_confusion_list.csv\"\n",
    "    f = open( f_name,\"w\")\n",
    "    f.write(str(confusion_list[0]))\n",
    "    for data in confusion_list[1:]:\n",
    "        f.write(\",\" + str(data))\n",
    "    f.close()"
   ]
  },
  {
   "cell_type": "code",
   "execution_count": 3,
   "metadata": {
    "collapsed": false,
    "deletable": true,
    "editable": true
   },
   "outputs": [
    {
     "name": "stdout",
     "output_type": "stream",
     "text": [
      "here is: 0 over: 135 ans: 185 plant: 1 fault: 1\n",
      "S_TP: 208 TP: 110 Real_S_TP: 172 FP: 1914 MS: 37 socre: 900.73 max: 1850\n",
      "here is: 1 over: 135 ans: 8 plant: 1 fault: 2\n",
      "S_TP: 3 TP: 1 Real_S_TP: 3 FP: 39 MS: 0 socre: 5.3999999999999995 max: 80\n"
     ]
    }
   ],
   "source": [
    "read_file_path = \"/media/joeytu/82F6C88FF6C8853F/PHM2017/20170831DEMO/file\"\n",
    "read_record_path = \"/media/joeytu/82F6C88FF6C8853F/PHM2017/PHM_nosample/file\"\n",
    "read_ground_path = \"/media/joeytu/82F6C88FF6C8853F/PHM2017/PHM_rawdata\"\n",
    "\n",
    "score(read_file_path,read_record_path,read_ground_path)"
   ]
  }
 ],
 "metadata": {
  "kernelspec": {
   "display_name": "Python 3",
   "language": "python",
   "name": "python3"
  },
  "language_info": {
   "codemirror_mode": {
    "name": "ipython",
    "version": 3
   },
   "file_extension": ".py",
   "mimetype": "text/x-python",
   "name": "python",
   "nbconvert_exporter": "python",
   "pygments_lexer": "ipython3",
   "version": "3.5.2"
  }
 },
 "nbformat": 4,
 "nbformat_minor": 2
}
